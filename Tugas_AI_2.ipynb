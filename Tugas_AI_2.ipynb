{
  "nbformat": 4,
  "nbformat_minor": 0,
  "metadata": {
    "colab": {
      "provenance": []
    },
    "kernelspec": {
      "name": "python3",
      "display_name": "Python 3"
    },
    "language_info": {
      "name": "python"
    }
  },
  "cells": [
    {
      "cell_type": "code",
      "execution_count": null,
      "metadata": {
        "id": "Wg-u01bkEF_p"
      },
      "outputs": [],
      "source": [
        "import numpy as np\n",
        "import matplotlib.pyplot as plt\n",
        "import pandas as pd"
      ]
    },
    {
      "cell_type": "code",
      "source": [
        "# Membership Function\n",
        "servis = {\n",
        "    'sangat baik' : [60.00, 85.00, 100.00, 100.00 ], \n",
        "    'biasa'   : [ 15.00, 35.00, 60.00, 75.00 ], \n",
        "    'buruk'   : [ 0.00, 0.00, 15.00, 30.00 ]\n",
        "}\n",
        "\n",
        "harga = {\n",
        "    'mahal'   : [ 7.00, 9.00, 10.00, 10.00],\n",
        "    'biasa'   : [ 1.00, 3.00, 7.00, 9.00],\n",
        "    'murah'   : [ 0.00, 0.00, 1.00, 3.00]\n",
        "}\n",
        "\n",
        "keanggotaan = {'tinggi': 90, 'biasa': 50, 'rendah': 30}"
      ],
      "metadata": {
        "id": "612gImWIEP9v"
      },
      "execution_count": null,
      "outputs": []
    },
    {
      "cell_type": "code",
      "source": [
        "#graph\n",
        "\n",
        "def convert_graph(batas, warna, label='', min=0, max=1):\n",
        "    y = [0, 1, 1, 0]\n",
        "    plt.plot( (min, batas[0]), (0,0), warna )\n",
        "    for i in range(len(batas)-1):\n",
        "        plt.plot((batas[i], batas[i+1]), (y[i], y[i+1]), warna)\n",
        "    plt.plot((batas[-1], max), (0,0), warna, label=label)"
      ],
      "metadata": {
        "id": "ZfcuiD8PIACW"
      },
      "execution_count": null,
      "outputs": []
    },
    {
      "cell_type": "code",
      "source": [
        "def plotting( membership, min=0, max=1):\n",
        "    warna = ['r', 'g', 'b', 'c', 'm', 'y', 'k'] \n",
        "    i=0\n",
        "    for l in membership :\n",
        "        convert_graph(membership[l], warna[i], l, min=min, max=max)\n",
        "        i += 1\n",
        "    plt.legend(loc=3)\n",
        "    plt.show()"
      ],
      "metadata": {
        "id": "MXM1lJ7DIpNU"
      },
      "execution_count": null,
      "outputs": []
    },
    {
      "cell_type": "code",
      "source": [
        "plotting(harga)\n",
        "plotting(servis)"
      ],
      "metadata": {
        "colab": {
          "base_uri": "https://localhost:8080/",
          "height": 513
        },
        "id": "ENlLz2KVIrdX",
        "outputId": "b35baaf5-43dc-4a43-bff8-d91ddb009f0e"
      },
      "execution_count": null,
      "outputs": [
        {
          "output_type": "display_data",
          "data": {
            "text/plain": [
              "<Figure size 432x288 with 1 Axes>"
            ],
            "image/png": "[encoded data removed]"
          },
          "metadata": {
            "needs_background": "light"
          }
        },
        {
          "output_type": "display_data",
          "data": {
            "text/plain": [
              "<Figure size 432x288 with 1 Axes>"
            ],
            "image/png": "[encoded data removed]"
          },
          "metadata": {
            "needs_background": "light"
          }
        }
      ]
    },
    {
      "cell_type": "code",
      "source": [
        "def linguistik(x, batas):\n",
        "\n",
        "  if x < batas[0] or x > batas [3]:\n",
        "      return 0\n",
        "\n",
        "  elif batas[2] >= x >= batas[1]:\n",
        "      return 1\n",
        "\n",
        "  elif batas[1] > x >= batas[0]:\n",
        "      return (x-batas[0]) / (batas[1]-batas[0])\n",
        "\n",
        "  elif batas[3] > x >= batas[2]: \n",
        "      return -1*(x-batas[3]) / (batas[3]-batas[2])\n",
        "  \n",
        "  return 0"
      ],
      "metadata": {
        "id": "iKFUECF2KbaU"
      },
      "execution_count": null,
      "outputs": []
    },
    {
      "cell_type": "markdown",
      "source": [
        "FUZZIFICATION"
      ],
      "metadata": {
        "id": "cGHHnohWNAzq"
      }
    },
    {
      "cell_type": "code",
      "source": [
        "def count_hasil(x, aturan):\n",
        "  result = {}\n",
        "\n",
        "  for state in aturan:\n",
        "    result[state] = linguistik(x, aturan[state])\n",
        "  return result"
      ],
      "metadata": {
        "id": "29R7gINuK-PN"
      },
      "execution_count": null,
      "outputs": []
    },
    {
      "cell_type": "code",
      "source": [
        "def fuzzyfikasi(x, aturan):\n",
        "  result = []\n",
        "\n",
        "  for jenis in range(len(aturan)):\n",
        "    result.append(count_hasil(x[jenis], aturan[jenis]))\n",
        "\n",
        "  return result"
      ],
      "metadata": {
        "id": "plCqGTr9K_yk"
      },
      "execution_count": null,
      "outputs": []
    },
    {
      "cell_type": "markdown",
      "source": [
        "INFERENSI"
      ],
      "metadata": {
        "id": "WD-j3SvGM6a7"
      }
    },
    {
      "cell_type": "code",
      "source": [
        "#aturan untuk NK\n",
        "rule = {\n",
        "    ('sangat baik', 'mahal') : 'biasa',\n",
        "    ('sangat baik', 'biasa') : 'tinggi',\n",
        "    ('sangat baik', 'murah') : 'tinggi',\n",
        "    ('biasa', 'mahal') : 'rendah',\n",
        "    ('biasa', 'biasa') : 'biasa',\n",
        "    ('biasa', 'murah') : 'tinggi',\n",
        "    ('buruk', 'mahal') : 'rendah',\n",
        "    ('buruk', 'biasa') : 'rendah',\n",
        "    ('buruk', 'murah') : 'biasa'\n",
        "}"
      ],
      "metadata": {
        "id": "7HDZVoDZM9n0"
      },
      "execution_count": null,
      "outputs": []
    },
    {
      "cell_type": "code",
      "source": [
        "def inferensi (fuzzed, rule) :\n",
        "  hasil = {}\n",
        "\n",
        "  for type1, value1 in fuzzed[0].items():\n",
        "    for type2, value2, in fuzzed[1].items():\n",
        "      r = (type1,type2)\n",
        "      min_value = min(value1, value2)\n",
        "      current_value = hasil.get(rule[r], 0)\n",
        "      hasil[rule[r]]= max( min_value, current_value )\n",
        "\n",
        "    \n",
        "  return hasil"
      ],
      "metadata": {
        "id": "OBk0k4fZNIWb"
      },
      "execution_count": null,
      "outputs": []
    },
    {
      "cell_type": "markdown",
      "source": [
        "DEFUZZ"
      ],
      "metadata": {
        "id": "t9UR5wbbnFPX"
      }
    },
    {
      "cell_type": "code",
      "source": [
        "def defuzz(infer, kualitas):\n",
        "    #sugeno\n",
        "    num = 0\n",
        "    denum = 0\n",
        "\n",
        "\n",
        "    for tipe in kualitas:\n",
        "        num = num+infer[tipe] * kualitas[tipe]\n",
        "        denum = denum + infer[tipe]\n",
        "    return num/denum"
      ],
      "metadata": {
        "id": "RS3Uc8K6nGEn"
      },
      "execution_count": null,
      "outputs": []
    },
    {
      "cell_type": "markdown",
      "source": [
        "MAIN"
      ],
      "metadata": {
        "id": "u05quJTJpW0H"
      }
    },
    {
      "cell_type": "code",
      "source": [
        "test = pd.read_csv('bengkel.csv')\n",
        "test_id = test[['id']]\n",
        "test = test[['servis', 'harga' ]]\n",
        "data_test = test.values"
      ],
      "metadata": {
        "id": "EYScTKHypUVd"
      },
      "execution_count": null,
      "outputs": []
    },
    {
      "cell_type": "code",
      "source": [
        "skor_test = []\n",
        "for x in data_test : \n",
        "    fuzzy = fuzzyfikasi(x, [servis, harga])\n",
        "    infer = inferensi(fuzzy, rule)\n",
        "    defuz = defuzz(infer,keanggotaan)\n",
        "    skor_test.append(defuz)\n",
        "  \n",
        "\n"
      ],
      "metadata": {
        "id": "EnbCBnDrpeYu"
      },
      "execution_count": null,
      "outputs": []
    },
    {
      "cell_type": "code",
      "source": [
        "data = pd.read_csv(\"bengkel.csv\")\n",
        "\n",
        "data.insert(3, \"Defuz\", skor_test)"
      ],
      "metadata": {
        "id": "8b68CV1Opi98"
      },
      "execution_count": null,
      "outputs": []
    },
    {
      "cell_type": "code",
      "source": [
        "data = data.sort_values(by=\"Defuz\", ascending = False)[:10]\n"
      ],
      "metadata": {
        "id": "sf_dHN3eFPzO"
      },
      "execution_count": null,
      "outputs": []
    },
    {
      "cell_type": "code",
      "source": [
        "final = pd.DataFrame(test_id, columns=['id'])"
      ],
      "metadata": {
        "id": "EDqeijTkFbSY"
      },
      "execution_count": null,
      "outputs": []
    },
    {
      "cell_type": "code",
      "source": [
        "final.insert(1, \"Defuzz/Hasil\", skor_test)"
      ],
      "metadata": {
        "id": "HbR0Onjdawg-"
      },
      "execution_count": null,
      "outputs": []
    },
    {
      "cell_type": "code",
      "source": [
        "final = final.sort_values(by=\"Defuzz/Hasil\", ascending=False)[:10]"
      ],
      "metadata": {
        "id": "0XGMfmjObBm_"
      },
      "execution_count": null,
      "outputs": []
    },
    {
      "cell_type": "code",
      "source": [
        "final.to_excel(\"peringkat.xlsx\", index=False)"
      ],
      "metadata": {
        "id": "sxF4cdoGbdZR"
      },
      "execution_count": null,
      "outputs": []
    }
  ]
}